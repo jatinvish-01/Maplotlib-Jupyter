import matplotlib.pyplot as plt

x = ['Mon', 'Tue', 'Wed', 'Thus', 'Fri']
y = [23, 45, 67, 12, 98]

plt.plot(x, y)


plt.title("Bakery sales in this week!!") # title of the graph[[[]]]

plt.xlabel('Days of the week') # x axis pe title dalna 
plt.ylabel('Sales per day') # y axis pe title dalna 
plt.legend()
plt.fill_between(x, y, color='skyblue', alpha=0.5) # coloring between the downside, and set the transprancy of it
plt.plot(x, y, color= 'yellow') # color of the line 
plt.grid(True) # grid with line in background

plt.show()




